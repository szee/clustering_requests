{
 "cells": [
  {
   "cell_type": "code",
   "execution_count": 1,
   "metadata": {
    "collapsed": true
   },
   "outputs": [],
   "source": [
    "%matplotlib inline\n",
    "\n",
    "import pandas as pd\n",
    "import requests\n",
    "import xml.etree.cElementTree as et"
   ]
  },
  {
   "cell_type": "code",
   "execution_count": 2,
   "metadata": {
    "collapsed": true
   },
   "outputs": [],
   "source": [
    "# Парсим  xml в два листа, из которых сделаем DataFrame.\n",
    "\n",
    "# Ссылка на прямой эфир.\n",
    "url = 'http://export.yandex.ru/last/last20x.xml'\n",
    "# Два пустых листа, в которые запишем запросы из прямого эфира.\n",
    "ls_found = []\n",
    "ls_item = []\n",
    "# За однин request Яндекс дает нам 1000 запросов. Сделаем 10 запросов, чтобы получить 10 000.\n",
    "for i in range(10):\n",
    "    # Библиотекой requests возьмем xml файл по ссылке.\n",
    "    xml_doc = requests.get(url).text\n",
    "    # Парсим xml в 2 листа.\n",
    "    tree = et.fromstring(xml_doc)\n",
    "    # 2 листа, т.к. вдург \"found\" пригодится в качетве id.\n",
    "    ls_found.extend([x.attrib['found'] for x in tree.findall('./last20x/')])\n",
    "    ls_item.extend([x.text for x in tree.findall('./last20x/')])"
   ]
  },
  {
   "cell_type": "code",
   "execution_count": 3,
   "metadata": {
    "collapsed": true
   },
   "outputs": [],
   "source": [
    "# Сделаем DataFrame.\n",
    "df = pd.DataFrame({'found': ls_found, 'item': ls_item})"
   ]
  },
  {
   "cell_type": "code",
   "execution_count": 4,
   "metadata": {},
   "outputs": [
    {
     "data": {
      "text/html": [
       "<div>\n",
       "<style>\n",
       "    .dataframe thead tr:only-child th {\n",
       "        text-align: right;\n",
       "    }\n",
       "\n",
       "    .dataframe thead th {\n",
       "        text-align: left;\n",
       "    }\n",
       "\n",
       "    .dataframe tbody tr th {\n",
       "        vertical-align: top;\n",
       "    }\n",
       "</style>\n",
       "<table border=\"1\" class=\"dataframe\">\n",
       "  <thead>\n",
       "    <tr style=\"text-align: right;\">\n",
       "      <th></th>\n",
       "      <th>found</th>\n",
       "      <th>item</th>\n",
       "    </tr>\n",
       "  </thead>\n",
       "  <tbody>\n",
       "    <tr>\n",
       "      <th>0</th>\n",
       "      <td>447966</td>\n",
       "      <td>slots free games cleopatra</td>\n",
       "    </tr>\n",
       "    <tr>\n",
       "      <th>1</th>\n",
       "      <td>595592</td>\n",
       "      <td>бьет бит iowa слушать</td>\n",
       "    </tr>\n",
       "    <tr>\n",
       "      <th>2</th>\n",
       "      <td>4652316</td>\n",
       "      <td>как сделать природу чище</td>\n",
       "    </tr>\n",
       "    <tr>\n",
       "      <th>3</th>\n",
       "      <td>2767765</td>\n",
       "      <td>вход в модем</td>\n",
       "    </tr>\n",
       "    <tr>\n",
       "      <th>4</th>\n",
       "      <td>4399859</td>\n",
       "      <td>3d в телевизоре нужен или нет</td>\n",
       "    </tr>\n",
       "  </tbody>\n",
       "</table>\n",
       "</div>"
      ],
      "text/plain": [
       "     found                           item\n",
       "0   447966     slots free games cleopatra\n",
       "1   595592          бьет бит iowa слушать\n",
       "2  4652316       как сделать природу чище\n",
       "3  2767765                   вход в модем\n",
       "4  4399859  3d в телевизоре нужен или нет"
      ]
     },
     "execution_count": 4,
     "metadata": {},
     "output_type": "execute_result"
    }
   ],
   "source": [
    "df.head()"
   ]
  },
  {
   "cell_type": "code",
   "execution_count": 5,
   "metadata": {
    "collapsed": true
   },
   "outputs": [],
   "source": [
    "from sklearn.feature_extraction.text import CountVectorizer\n",
    "from sklearn.feature_extraction.text import TfidfTransformer\n",
    "from sklearn.feature_extraction.text import TfidfVectorizer\n",
    "\n",
    "import re\n",
    "\n",
    "from sklearn.metrics.pairwise import cosine_similarity\n",
    "import nltk\n",
    "from nltk.stem.snowball import SnowballStemmer\n",
    "\n",
    "import matplotlib.pyplot as plt\n",
    "import matplotlib as mpl\n",
    "\n",
    "from scipy.cluster.hierarchy import ward, dendrogram"
   ]
  },
  {
   "cell_type": "code",
   "execution_count": 6,
   "metadata": {
    "collapsed": true
   },
   "outputs": [],
   "source": [
    "# Делаем список стоп-слов.\n",
    "stopwords = nltk.corpus.stopwords.words('russian')"
   ]
  },
  {
   "cell_type": "code",
   "execution_count": 7,
   "metadata": {
    "collapsed": true
   },
   "outputs": [],
   "source": [
    "# Стеммер.\n",
    "stemmer = SnowballStemmer('russian')"
   ]
  },
  {
   "cell_type": "code",
   "execution_count": 8,
   "metadata": {
    "collapsed": true
   },
   "outputs": [],
   "source": [
    "def tokenizing_stemming(text):\n",
    "    # Токенизация.\n",
    "    tokens = [word.lower() for word in nltk.word_tokenize(text)]\n",
    "    filtered_tokens = []\n",
    "    # Возьмем слова содержащие только буквы.\n",
    "    for token in tokens:\n",
    "        if re.search('[а-яА-Яa-zA-Z]', token):\n",
    "            filtered_tokens.append(token.lower())\n",
    "    # Стемминг.\n",
    "    stems = [stemmer.stem(t) for t in filtered_tokens]\n",
    "    return stems"
   ]
  },
  {
   "cell_type": "code",
   "execution_count": 9,
   "metadata": {
    "collapsed": true
   },
   "outputs": [],
   "source": [
    "# Кодируем в TF-IDF.\n",
    "transformer = TfidfVectorizer(max_df = 0.9, min_df = 0.01, stop_words=stopwords, ngram_range=(1,3),\n",
    "                              use_idf=True,\n",
    "                              tokenizer=tokenizing_stemming)\n",
    "tfidf_requests = transformer.fit_transform(df['item'])"
   ]
  },
  {
   "cell_type": "code",
   "execution_count": 10,
   "metadata": {
    "collapsed": true
   },
   "outputs": [],
   "source": [
    "# Расстояния для кластеризации.\n",
    "distance = 1 - cosine_similarity(tfidf_requests)"
   ]
  },
  {
   "cell_type": "code",
   "execution_count": 11,
   "metadata": {
    "collapsed": true
   },
   "outputs": [],
   "source": [
    "# Кластеризация K-means.\n",
    "from sklearn.cluster import KMeans\n",
    "\n",
    "numb_clusters = 5\n",
    "\n",
    "km = KMeans(n_clusters=numb_clusters)\n",
    "\n",
    "km.fit(tfidf_requests)\n",
    "\n",
    "clusters = km.labels_.tolist()"
   ]
  },
  {
   "cell_type": "code",
   "execution_count": 12,
   "metadata": {},
   "outputs": [
    {
     "data": {
      "text/plain": [
       "Counter({0: 369, 1: 8903, 2: 233, 3: 245, 4: 250})"
      ]
     },
     "execution_count": 12,
     "metadata": {},
     "output_type": "execute_result"
    }
   ],
   "source": [
    "from collections import Counter\n",
    "Counter(clusters)"
   ]
  },
  {
   "cell_type": "code",
   "execution_count": 32,
   "metadata": {
    "scrolled": true
   },
   "outputs": [
    {
     "name": "stdout",
     "output_type": "stream",
     "text": [
      "Ближайшие 3 стема к центру каждого кластера:\n",
      "Кластер 0:\n",
      " смотрет\n",
      " онлайн\n",
      " смотрет онлайн\n",
      "Кластер 1:\n",
      " цен\n",
      " фот\n",
      " класс\n",
      "Кластер 2:\n",
      " сайт\n",
      " официальн\n",
      " официальн сайт\n",
      "Кластер 3:\n",
      " куп\n",
      " москв\n",
      " магазин\n",
      "Кластер 4:\n",
      " скача\n",
      " бесплатн\n",
      " игр\n",
      "{0: 'смотрет, онлайн, смотрет онлайн', 1: 'цен, фот, класс', 2: 'сайт, официальн, официальн сайт', 3: 'куп, москв, магазин', 4: 'скача, бесплатн, игр'}\n"
     ]
    }
   ],
   "source": [
    "# Ближайшие 3 стема к центру каждого кластера.\n",
    "print('Ближайшие 3 стема к центру каждого кластера:')\n",
    "order_centroids = km.cluster_centers_.argsort()[:, ::-1]\n",
    "terms = transformer.get_feature_names()\n",
    "cluster_names = {}\n",
    "for i in range(numb_clusters):\n",
    "    print(\"Кластер %d:\" % i),\n",
    "    tops = []\n",
    "    for ind in order_centroids[i, :3]:\n",
    "        print(' %s' % terms[ind])\n",
    "        tops.append(terms[ind])\n",
    "    cluster_names[i] = ', '.join(tops)\n",
    "    \n",
    "# Этот словарь будем использовать для легенды на графике.\n",
    "print(cluster_names)"
   ]
  },
  {
   "cell_type": "code",
   "execution_count": 28,
   "metadata": {
    "collapsed": true
   },
   "outputs": [],
   "source": [
    "import os\n",
    "\n",
    "import matplotlib.pyplot as plt\n",
    "import matplotlib as mpl"
   ]
  },
  {
   "cell_type": "code",
   "execution_count": 29,
   "metadata": {
    "collapsed": true
   },
   "outputs": [],
   "source": [
    "# Присваиваем кластерам цвета.\n",
    "cluster_colors = {0: '#1b9e77', 1: '#d95f02', 2: '#7570b3', 3: '#e7298a', 4: '#66a61e'}"
   ]
  },
  {
   "cell_type": "code",
   "execution_count": 30,
   "metadata": {
    "collapsed": true
   },
   "outputs": [],
   "source": [
    "from sklearn.decomposition import PCA\n",
    "\n",
    "# Понижаем размерность до 2х, чтобы отобразить запросы на плоскости.\n",
    "pca = PCA(svd_solver='randomized', n_components=2, random_state=1)\n",
    "\n",
    "pos = pca.fit_transform(distance)\n",
    "\n",
    "xs, ys = pos[:, 0], pos[:, 1]"
   ]
  },
  {
   "cell_type": "code",
   "execution_count": 31,
   "metadata": {},
   "outputs": [
    {
     "data": {
      "image/png": "[encoded data removed]",
      "text/plain": [
       "<matplotlib.figure.Figure at 0x7f9c0de7c4a8>"
      ]
     },
     "metadata": {},
     "output_type": "display_data"
    }
   ],
   "source": [
    "# Нарисуем запросы.\n",
    "\n",
    "# Этот DataFrame будем рисовать. Тут результаты PCA и названия кластеров.\n",
    "df_pca = pd.DataFrame(dict(x=xs, y=ys, label=clusters)) \n",
    "\n",
    "# Сгруппируем по кластерам.\n",
    "groups = df_pca.groupby('label')\n",
    "\n",
    "# Рисуем.\n",
    "fig, ax = plt.subplots(figsize=(17, 9)) \n",
    "ax.margins(0.05) \n",
    "\n",
    "for name, group in groups:\n",
    "    ax.plot(group.x, group.y, marker='o', linestyle='', ms=12, \n",
    "            label=cluster_names[name], color=cluster_colors[name], \n",
    "            mec='none')\n",
    "    ax.set_aspect('auto')\n",
    "    ax.tick_params(\\\n",
    "        axis= 'x',         \n",
    "        which='both',      \n",
    "        bottom='off',      \n",
    "        top='off',         \n",
    "        labelbottom='off')\n",
    "    ax.tick_params(\\\n",
    "        axis= 'y',         \n",
    "        which='both',      \n",
    "        left='off',      \n",
    "        top='off',         \n",
    "        labelleft='off')\n",
    "    \n",
    "ax.legend(numpoints=1)  \n",
    "    \n",
    "plt.savefig('clusters.png', dpi=200)    \n",
    "plt.show() "
   ]
  },
  {
   "cell_type": "markdown",
   "metadata": {
    "collapsed": true
   },
   "source": [
    "# Отчет \n",
    "\n",
    "### Задача: \n",
    "Кластеризовать 10 000 поисковых запросов из прямого эфира Яндекса.\n",
    "\n",
    "Для кластеризации запросы были размечени, используя метод TF-IDF. Слова были разделены на стемы, используя стеммер библиотеки NLTK.\n",
    "\n",
    "В качестве алгоритма был выбран K-means. Кажется, что можно будет интерпретировать координаты центров кластеров (стемы). Решено было попробовать разбить запросы на 5 кластеров.\n",
    "\n",
    "Получилось следующее разбиение (номер_кластера: количество_элементов): 0: 369, 1: 8903, 2: 233, 3: 245, 4: 250.\n",
    "Посмотрим на координаты центров кластеров, а точнее ближайшие к ним 3 стема:\n",
    "\n",
    "Номер кластера | Ближайшие стемы | К-во элементов\n",
    ":---: | :---: | :---:\n",
    "0: | 'смотрет, онлайн, смотрет онлайн',  |  369\n",
    "1: | 'цен, фот, класс',                  |  8903\n",
    "2: | 'сайт, официальн, официальн сайт',  |  233\n",
    "3: | 'куп, москв, магазин',              |  245\n",
    "4: | 'скача, бесплатн, игр',             |  250\n",
    "\n",
    "Получившиеся результаты можно интерпретировать так: подавляющее большинство людей ищут цены на товары и фото (возможно, товаров) - 1 кластер, затем идет группа тех, кто хочет посмотреть кино онлайн - 0 кластер, остальные 3 группы равночисленны и в этих запросах люди ищут официальные сайты - 2 кластер, хотят купить в магазина в мосве что-то - 3 кластер, хотят бесплатно скачать игры - 4 кластер.\n",
    "\n",
    "Изобразим на плоскости наши данные и покрасить точки относящиеся к одному кластеру в одинаковые цвета. Понизим размерность данных используя метод главных компонент.\n",
    "Ближайшие к центрам кластера стемы указаны на легенде графика.\n",
    "<img src=\"clusters.png\">\n",
    "\n",
    "Интересно, можно заметить, что дальше всех разнесены кластеры 'куп, москв, магазин', 'скача, бесплатн, игр', что имеет смысл."
   ]
  }
 ],
 "metadata": {
  "kernelspec": {
   "display_name": "Python 3",
   "language": "python",
   "name": "python3"
  },
  "language_info": {
   "codemirror_mode": {
    "name": "ipython",
    "version": 3
   },
   "file_extension": ".py",
   "mimetype": "text/x-python",
   "name": "python",
   "nbconvert_exporter": "python",
   "pygments_lexer": "ipython3",
   "version": "3.6.1"
  }
 },
 "nbformat": 4,
 "nbformat_minor": 2
}
