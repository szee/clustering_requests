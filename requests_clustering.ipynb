{
 "cells": [
  {
   "cell_type": "code",
   "execution_count": 28,
   "metadata": {
    "collapsed": true
   },
   "outputs": [],
   "source": [
    "import pandas as pd\n",
    "import requests\n",
    "import xml.etree.cElementTree as et"
   ]
  },
  {
   "cell_type": "code",
   "execution_count": 88,
   "metadata": {
    "collapsed": true
   },
   "outputs": [],
   "source": [
    "# Парсим  xml в два листа, из которых сделаем DataFrame.\n",
    "\n",
    "# Ссылка на прямой эфир.\n",
    "url = 'http://export.yandex.ru/last/last20x.xml'\n",
    "# Два пустых листа, в которые запишем запросы из прямого эфира.\n",
    "ls_found = []\n",
    "ls_item = []\n",
    "# За однин request Яндекс дает нам 1000 запросов. Сделаем 10 запросов, чтобы получить 10 000.\n",
    "for i in range(10):\n",
    "    # Библиотекой requests возьмем xml файл по ссылке.\n",
    "    xml_doc = requests.get(url).text\n",
    "    # Парсим xml в 2 листа.\n",
    "    tree = et.fromstring(xml_doc)\n",
    "    # 2 листа, т.к. вдург \"found\" пригодится в качетве id.\n",
    "    ls_found.extend([x.attrib['found'] for x in tree.findall('./last20x/')])\n",
    "    ls_item.extend([x.text for x in tree.findall('./last20x/')])"
   ]
  },
  {
   "cell_type": "code",
   "execution_count": 93,
   "metadata": {},
   "outputs": [],
   "source": [
    "# Сделаем DataFrame.\n",
    "df = pd.DataFrame({'found': ls_found, 'item': ls_item})"
   ]
  },
  {
   "cell_type": "code",
   "execution_count": 94,
   "metadata": {},
   "outputs": [
    {
     "data": {
      "text/html": [
       "<div>\n",
       "<style>\n",
       "    .dataframe thead tr:only-child th {\n",
       "        text-align: right;\n",
       "    }\n",
       "\n",
       "    .dataframe thead th {\n",
       "        text-align: left;\n",
       "    }\n",
       "\n",
       "    .dataframe tbody tr th {\n",
       "        vertical-align: top;\n",
       "    }\n",
       "</style>\n",
       "<table border=\"1\" class=\"dataframe\">\n",
       "  <thead>\n",
       "    <tr style=\"text-align: right;\">\n",
       "      <th></th>\n",
       "      <th>found</th>\n",
       "      <th>item</th>\n",
       "    </tr>\n",
       "  </thead>\n",
       "  <tbody>\n",
       "    <tr>\n",
       "      <th>0</th>\n",
       "      <td>47678</td>\n",
       "      <td>шнуровальный планшет-2</td>\n",
       "    </tr>\n",
       "    <tr>\n",
       "      <th>1</th>\n",
       "      <td>975852</td>\n",
       "      <td>никита зверев</td>\n",
       "    </tr>\n",
       "    <tr>\n",
       "      <th>2</th>\n",
       "      <td>983538</td>\n",
       "      <td>твц телеканал</td>\n",
       "    </tr>\n",
       "    <tr>\n",
       "      <th>3</th>\n",
       "      <td>4282402</td>\n",
       "      <td>какой браузер самый лучший и быстрый для windo...</td>\n",
       "    </tr>\n",
       "    <tr>\n",
       "      <th>4</th>\n",
       "      <td>4921141</td>\n",
       "      <td>peers</td>\n",
       "    </tr>\n",
       "  </tbody>\n",
       "</table>\n",
       "</div>"
      ],
      "text/plain": [
       "     found                                               item\n",
       "0    47678                             шнуровальный планшет-2\n",
       "1   975852                                      никита зверев\n",
       "2   983538                                      твц телеканал\n",
       "3  4282402  какой браузер самый лучший и быстрый для windo...\n",
       "4  4921141                                              peers"
      ]
     },
     "execution_count": 94,
     "metadata": {},
     "output_type": "execute_result"
    }
   ],
   "source": [
    "df.head()"
   ]
  },
  {
   "cell_type": "code",
   "execution_count": null,
   "metadata": {
    "collapsed": true
   },
   "outputs": [],
   "source": []
  }
 ],
 "metadata": {
  "kernelspec": {
   "display_name": "Python 3",
   "language": "python",
   "name": "python3"
  },
  "language_info": {
   "codemirror_mode": {
    "name": "ipython",
    "version": 3
   },
   "file_extension": ".py",
   "mimetype": "text/x-python",
   "name": "python",
   "nbconvert_exporter": "python",
   "pygments_lexer": "ipython3",
   "version": "3.6.1"
  }
 },
 "nbformat": 4,
 "nbformat_minor": 2
}
