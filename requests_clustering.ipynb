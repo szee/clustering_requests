{
 "cells": [
  {
   "cell_type": "code",
   "execution_count": 1,
   "metadata": {
    "collapsed": true
   },
   "outputs": [],
   "source": [
    "%matplotlib inline\n",
    "\n",
    "import pandas as pd\n",
    "import requests\n",
    "import xml.etree.cElementTree as et"
   ]
  },
  {
   "cell_type": "code",
   "execution_count": 2,
   "metadata": {
    "collapsed": true
   },
   "outputs": [],
   "source": [
    "# Парсим  xml в два листа, из которых сделаем DataFrame.\n",
    "\n",
    "# Ссылка на прямой эфир.\n",
    "url = 'http://export.yandex.ru/last/last20x.xml'\n",
    "# Два пустых листа, в которые запишем запросы из прямого эфира.\n",
    "ls_found = []\n",
    "ls_item = []\n",
    "# За однин request Яндекс дает нам 1000 запросов. Сделаем 10 запросов, чтобы получить 10 000.\n",
    "for i in range(10):\n",
    "    # Библиотекой requests возьмем xml файл по ссылке.\n",
    "    xml_doc = requests.get(url).text\n",
    "    # Парсим xml в 2 листа.\n",
    "    tree = et.fromstring(xml_doc)\n",
    "    # 2 листа, т.к. вдург \"found\" пригодится в качетве id.\n",
    "    ls_found.extend([x.attrib['found'] for x in tree.findall('./last20x/')])\n",
    "    ls_item.extend([x.text for x in tree.findall('./last20x/')])"
   ]
  },
  {
   "cell_type": "code",
   "execution_count": 3,
   "metadata": {
    "collapsed": true
   },
   "outputs": [],
   "source": [
    "# Сделаем DataFrame.\n",
    "df = pd.DataFrame({'found': ls_found, 'item': ls_item})"
   ]
  },
  {
   "cell_type": "code",
   "execution_count": 26,
   "metadata": {},
   "outputs": [
    {
     "data": {
      "text/html": [
       "<div>\n",
       "<style>\n",
       "    .dataframe thead tr:only-child th {\n",
       "        text-align: right;\n",
       "    }\n",
       "\n",
       "    .dataframe thead th {\n",
       "        text-align: left;\n",
       "    }\n",
       "\n",
       "    .dataframe tbody tr th {\n",
       "        vertical-align: top;\n",
       "    }\n",
       "</style>\n",
       "<table border=\"1\" class=\"dataframe\">\n",
       "  <thead>\n",
       "    <tr style=\"text-align: right;\">\n",
       "      <th></th>\n",
       "      <th>found</th>\n",
       "      <th>item</th>\n",
       "    </tr>\n",
       "  </thead>\n",
       "  <tbody>\n",
       "    <tr>\n",
       "      <th>0</th>\n",
       "      <td>290951</td>\n",
       "      <td>есть ли срок давности госпошлины за смену пасп...</td>\n",
       "    </tr>\n",
       "    <tr>\n",
       "      <th>1</th>\n",
       "      <td>68390</td>\n",
       "      <td>рп5 красногорское удмуртия</td>\n",
       "    </tr>\n",
       "    <tr>\n",
       "      <th>2</th>\n",
       "      <td>312548</td>\n",
       "      <td>спасатель ас робот</td>\n",
       "    </tr>\n",
       "    <tr>\n",
       "      <th>3</th>\n",
       "      <td>965466</td>\n",
       "      <td>день ангела дарья</td>\n",
       "    </tr>\n",
       "    <tr>\n",
       "      <th>4</th>\n",
       "      <td>20247</td>\n",
       "      <td>авиафорум кедайняй воинская часть 78684</td>\n",
       "    </tr>\n",
       "  </tbody>\n",
       "</table>\n",
       "</div>"
      ],
      "text/plain": [
       "    found                                               item\n",
       "0  290951  есть ли срок давности госпошлины за смену пасп...\n",
       "1   68390                         рп5 красногорское удмуртия\n",
       "2  312548                                 спасатель ас робот\n",
       "3  965466                                  день ангела дарья\n",
       "4   20247            авиафорум кедайняй воинская часть 78684"
      ]
     },
     "execution_count": 26,
     "metadata": {},
     "output_type": "execute_result"
    }
   ],
   "source": [
    "df.head()"
   ]
  },
  {
   "cell_type": "code",
   "execution_count": 5,
   "metadata": {
    "collapsed": true
   },
   "outputs": [],
   "source": [
    "from sklearn.feature_extraction.text import CountVectorizer\n",
    "from sklearn.feature_extraction.text import TfidfTransformer\n",
    "from sklearn.feature_extraction.text import TfidfVectorizer\n",
    "\n",
    "import re\n",
    "\n",
    "from sklearn.metrics.pairwise import cosine_similarity\n",
    "import nltk\n",
    "from nltk.stem.snowball import SnowballStemmer\n",
    "\n",
    "import matplotlib.pyplot as plt\n",
    "import matplotlib as mpl\n",
    "\n",
    "from scipy.cluster.hierarchy import ward, dendrogram"
   ]
  },
  {
   "cell_type": "code",
   "execution_count": 6,
   "metadata": {
    "collapsed": true
   },
   "outputs": [],
   "source": [
    "# Делаем список стоп-слов.\n",
    "stopwords = nltk.corpus.stopwords.words('russian')"
   ]
  },
  {
   "cell_type": "code",
   "execution_count": 8,
   "metadata": {
    "collapsed": true
   },
   "outputs": [],
   "source": [
    "# Стеммер.\n",
    "stemmer = SnowballStemmer('russian')"
   ]
  },
  {
   "cell_type": "code",
   "execution_count": 9,
   "metadata": {},
   "outputs": [
    {
     "data": {
      "text/plain": [
       "<bound method RussianStemmer.stem of <RussianStemmer>>"
      ]
     },
     "execution_count": 9,
     "metadata": {},
     "output_type": "execute_result"
    }
   ],
   "source": [
    "stemmer.stem"
   ]
  },
  {
   "cell_type": "code",
   "execution_count": 10,
   "metadata": {
    "collapsed": true
   },
   "outputs": [],
   "source": [
    "def tokenizing_stemming(text):\n",
    "    # Токенизация.\n",
    "    tokens = [word.lower() for word in nltk.word_tokenize(text)]\n",
    "    filtered_tokens = []\n",
    "    # Возьмем слова содержащие только буквы.\n",
    "    for token in tokens:\n",
    "        if re.search('[а-яА-Яa-zA-Z]', token):\n",
    "            filtered_tokens.append(token.lower())\n",
    "    # Стемминг.\n",
    "    stems = [stemmer.stem(t) for t in filtered_tokens]\n",
    "    return stems"
   ]
  },
  {
   "cell_type": "code",
   "execution_count": 12,
   "metadata": {},
   "outputs": [],
   "source": [
    "# Кодируем в TF-IDF.\n",
    "transformer = TfidfVectorizer(max_df = 0.9, min_df = 0.01, stop_words=stopwords, ngram_range=(1,3),\n",
    "                              use_idf=True,\n",
    "                              tokenizer=tokenizing_steming)\n",
    "tfidf_requests = transformer.fit_transform(df['item'])"
   ]
  },
  {
   "cell_type": "code",
   "execution_count": 37,
   "metadata": {
    "collapsed": true
   },
   "outputs": [],
   "source": [
    "# Расстояния для кластеризации.\n",
    "distance = 1 - cosine_similarity(tfidf_requests)"
   ]
  },
  {
   "cell_type": "code",
   "execution_count": 27,
   "metadata": {},
   "outputs": [
    {
     "data": {
      "image/png": "[encoded data removed]",
      "text/plain": [
       "<matplotlib.figure.Figure at 0x7f161c97be80>"
      ]
     },
     "metadata": {},
     "output_type": "display_data"
    }
   ],
   "source": [
    "# Иерархическая кластеризация.\n",
    "linkage = ward(distance) \n",
    "\n",
    "fig, ax = plt.subplots(figsize=(15, 20))\n",
    "ax = dendrogram(linkage, labels=df['item'], orientation=\"right\", truncate_mode='lastp', p=5);\n",
    "df['item']\n",
    "plt.tick_params(\\\n",
    "    axis= 'x',          \n",
    "    which='both',     \n",
    "    bottom='off',      \n",
    "    top='off',         \n",
    "    labelbottom='off')\n",
    "\n",
    "plt.tight_layout() "
   ]
  },
  {
   "cell_type": "code",
   "execution_count": 38,
   "metadata": {},
   "outputs": [],
   "source": [
    "# Кластеризация K-means.\n",
    "from sklearn.cluster import KMeans\n",
    "\n",
    "numb_clusters = 5\n",
    "\n",
    "km = KMeans(n_clusters=numb_clusters)\n",
    "\n",
    "km.fit(tfidf_requests)\n",
    "\n",
    "clusters = km.labels_.tolist()"
   ]
  },
  {
   "cell_type": "code",
   "execution_count": 39,
   "metadata": {},
   "outputs": [
    {
     "data": {
      "text/plain": [
       "Counter({0: 9010, 1: 230, 2: 299, 3: 262, 4: 199})"
      ]
     },
     "execution_count": 39,
     "metadata": {},
     "output_type": "execute_result"
    }
   ],
   "source": [
    "from collections import Counter\n",
    "Counter(clusters)"
   ]
  },
  {
   "cell_type": "code",
   "execution_count": 40,
   "metadata": {
    "scrolled": true
   },
   "outputs": [
    {
     "name": "stdout",
     "output_type": "stream",
     "text": [
      "Топ-3 стема для каждого кластера:\n",
      "Кластер 0:\n",
      " онлайн\n",
      " смотрет\n",
      " фот\n",
      "Кластер 1:\n",
      " сайт\n",
      " официальн\n",
      " официальн сайт\n",
      "Кластер 2:\n",
      " куп\n",
      " москв\n",
      " смотрет\n",
      "Кластер 3:\n",
      " скача\n",
      " бесплатн\n",
      " игр\n",
      "Кластер 4:\n",
      " цен\n",
      " куп\n",
      " фот\n"
     ]
    }
   ],
   "source": [
    "# Топ-3 стема для каждого кластера\n",
    "print('Топ-3 стема для каждого кластера:')\n",
    "order_centroids = km.cluster_centers_.argsort()[:, ::-1]\n",
    "terms = transformer.get_feature_names()\n",
    "for i in range(num_clusters):\n",
    "    print(\"Кластер %d:\" % i),\n",
    "    for ind in order_centroids[i, :3]:\n",
    "        print(' %s' % terms[ind])"
   ]
  },
  {
   "cell_type": "code",
   "execution_count": null,
   "metadata": {},
   "outputs": [],
   "source": [
    "import os\n",
    "\n",
    "import matplotlib.pyplot as plt\n",
    "import matplotlib as mpl\n",
    "\n",
    "from sklearn.decomposition import PCA\n",
    "\n",
    "# Понижаем размерность до 2х, чтобы отобразить запросы на плоскости.\n",
    "pca = PCA(svd_solver='randomized', n_components=2, random_state=1)\n",
    "\n",
    "pos = pca.fit_transform(distance)\n",
    "\n",
    "xs, ys = pos[:, 0], pos[:, 1]"
   ]
  },
  {
   "cell_type": "code",
   "execution_count": 35,
   "metadata": {},
   "outputs": [],
   "source": [
    "# Присваиваем кластерам цвета.\n",
    "cluster_colors = {0: '#1b9e77', 1: '#d95f02', 2: '#7570b3', 3: '#e7298a', 4: '#66a61e'}\n",
    "\n",
    "# Даем кластерам имена. Пусть это будут топ-3.\n",
    "cluster_names = {0: 'цен, фот, класс', \n",
    "                 1: 'сайт, официальн, официальн сайт', \n",
    "                 2: 'куп, москв, магазин', \n",
    "                 3: 'скача, бесплатн, игр', \n",
    "                 4: 'онлайн, смотрет, смотрет онлайн'}"
   ]
  },
  {
   "cell_type": "code",
   "execution_count": 28,
   "metadata": {},
   "outputs": [
    {
     "data": {
      "image/png": "[encoded data removed]",
      "text/plain": [
       "<matplotlib.figure.Figure at 0x7f161c7e0a58>"
      ]
     },
     "metadata": {},
     "output_type": "display_data"
    }
   ],
   "source": [
    "# Нарисуем запросы.\n",
    "\n",
    "# Этот DataFrame будем рисовать. Тут результаты PCA и названия кластеров.\n",
    "df_pca = pd.DataFrame(dict(x=xs, y=ys, label=clusters)) \n",
    "\n",
    "# Сгруппируем по кластерам.\n",
    "groups = df_pca.groupby('label')\n",
    "\n",
    "# Рисуем.\n",
    "fig, ax = plt.subplots(figsize=(17, 9)) \n",
    "ax.margins(0.05) \n",
    "\n",
    "for name, group in groups:\n",
    "    ax.plot(group.x, group.y, marker='o', linestyle='', ms=12, \n",
    "            label=cluster_names[name], color=cluster_colors[name], \n",
    "            mec='none')\n",
    "    ax.set_aspect('auto')\n",
    "    ax.tick_params(\\\n",
    "        axis= 'x',         \n",
    "        which='both',      \n",
    "        bottom='off',      \n",
    "        top='off',         \n",
    "        labelbottom='off')\n",
    "    ax.tick_params(\\\n",
    "        axis= 'y',         \n",
    "        which='both',      \n",
    "        left='off',      \n",
    "        top='off',         \n",
    "        labelleft='off')\n",
    "    \n",
    "ax.legend(numpoints=1)  \n",
    "    \n",
    "plt.savefig('clusters.png', dpi=200)    \n",
    "plt.show() "
   ]
  }
 ],
 "metadata": {
  "kernelspec": {
   "display_name": "Python 3",
   "language": "python",
   "name": "python3"
  },
  "language_info": {
   "codemirror_mode": {
    "name": "ipython",
    "version": 3
   },
   "file_extension": ".py",
   "mimetype": "text/x-python",
   "name": "python",
   "nbconvert_exporter": "python",
   "pygments_lexer": "ipython3",
   "version": "3.6.1"
  }
 },
 "nbformat": 4,
 "nbformat_minor": 2
}
