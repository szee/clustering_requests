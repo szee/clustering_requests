{
 "cells": [
  {
   "cell_type": "markdown",
   "metadata": {},
   "source": [
    "1. На перекрестке стоит светофор - красный свет горит 45 секунд, зеленый - 15 секунд. Какое среднее время ожидания (простоя автомобиля) на данном перекрестке? Обоснуйте свой ответ. (10 баллов)\n",
    "\n",
    "#### Решение\n",
    "\n",
    "Автомобиль приезжает равновероятно в любую из 60-ти секунд цикл работы светофора (45 сек красный + 15 сек зеленый). Таким образом плотность вероятности $p$ константа. Посчитаем ее:\n",
    "$$\\int_{0}^{60} p dx = 1$$\n",
    "$$60 * p - 60 * 0 = 1$$\n",
    "$$p = \\frac{1}{60}$$\n",
    "\n",
    "Теперь посчитаем среднее время ожидания:\n",
    "\n",
    "$$t = \\int_{0}^{45}(45-x) p dx$$\n",
    "$$t = \\int_{0}^{45}45 p dx - \\int_{0}^{45}x p dx$$\n",
    "$$t = 45 p x\\vert_{0}^{45} - p \\frac{x^2}{2}\\vert_{0}^{45}$$\n",
    "$$t = 45 \\frac{1}{60} x\\vert_{0}^{45} - \\frac{1}{60} \\frac{x^2}{2}\\vert_{0}^{45}$$\n",
    "\n",
    "\n",
    "$$t = 16.875$$"
   ]
  }
 ],
 "metadata": {
  "kernelspec": {
   "display_name": "Python 3",
   "language": "python",
   "name": "python3"
  },
  "language_info": {
   "codemirror_mode": {
    "name": "ipython",
    "version": 3
   },
   "file_extension": ".py",
   "mimetype": "text/x-python",
   "name": "python",
   "nbconvert_exporter": "python",
   "pygments_lexer": "ipython3",
   "version": "3.6.1"
  }
 },
 "nbformat": 4,
 "nbformat_minor": 2
}
